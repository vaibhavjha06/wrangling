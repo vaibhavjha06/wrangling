{
 "cells": [
  {
   "cell_type": "markdown",
   "id": "13ad028b-72b7-43ed-aa78-96fd4e518040",
   "metadata": {
    "id": "13ad028b-72b7-43ed-aa78-96fd4e518040"
   },
   "source": [
    "# Assignment: Data Wrangling\n",
    "## `! git clone https://github.com/DS3001/wrangling`\n",
    "## Do Q2, and one of Q1 or Q3."
   ]
  },
  {
   "cell_type": "markdown",
   "id": "5735a4d4-8be8-433a-a351-70eb8002e632",
   "metadata": {
    "id": "5735a4d4-8be8-433a-a351-70eb8002e632"
   },
   "source": [
    "**Q1.** Open the \"tidy_data.pdf\" document in the repo, which is a paper called Tidy Data by Hadley Wickham.\n",
    "\n",
    "  1. Read the abstract. What is this paper about?\n",
    "  2. Read the introduction. What is the \"tidy data standard\" intended to accomplish?\n",
    "  3. Read the intro to section 2. What does this sentence mean: \"Like families, tidy datasets are all alike but every messy dataset is messy in its own way.\" What does this sentence mean: \"For a given dataset, it’s usually easy to figure out what are observations and what are variables, but it is surprisingly difficult to precisely define variables and observations in general.\"\n",
    "  4. Read Section 2.2. How does Wickham define values, variables, and observations?\n",
    "  5. How is \"Tidy Data\" defined in section 2.3?\n",
    "  6. Read the intro to Section 3 and Section 3.1. What are the 5 most common problems with messy datasets? Why are the data in Table 4 messy? What is \"melting\" a dataset?\n",
    "  7. Why, specifically, is table 11 messy but table 12 tidy and \"molten\"?\n",
    "  8. Read Section 6. What is the \"chicken-and-egg\" problem with focusing on tidy data? What does Wickham hope happens in the future with further work on the subject of data wrangling?"
   ]
  },
  {
   "cell_type": "markdown",
   "id": "da879ea7-8aac-48a3-b6c2-daea56d2e072",
   "metadata": {
    "id": "da879ea7-8aac-48a3-b6c2-daea56d2e072"
   },
   "source": [
    "**Q2.** This question provides some practice cleaning variables which have common problems.\n",
    "1. Numeric variable: For `./data/airbnb_hw.csv`, clean the `Price` variable as well as you can, and explain the choices you make. How many missing values do you end up with? (Hint: What happens to the formatting when a price goes over 999 dollars, say from 675 to 1,112?)\n",
    "2. Categorical variable: For the `./data/sharks.csv` data covered in the lecture, clean the \"Type\" variable as well as you can, and explain the choices you make.\n",
    "3. Dummy variable: For the pretrial data covered in the lecture, clean the `WhetherDefendantWasReleasedPretrial` variable as well as you can, and, in particular, replace missing values with `np.nan`.\n",
    "4. Missing values, not at random: For the pretrial data covered in the lecture, clean the `ImposedSentenceAllChargeInContactEvent` variable as well as you can, and explain the choices you make. (Hint: Look at the `SentenceTypeAllChargesAtConvictionInContactEvent` variable.)"
   ]
  },
  {
   "cell_type": "code",
   "execution_count": null,
   "id": "d54457b9-6b7f-4728-a7ec-fc7f948de334",
   "metadata": {},
   "outputs": [],
   "source": [
    "import pandas as pd\n",
    "\n",
    "airbnb = pd.read_csv(\"/Users/vaibhavjha/wrangling/assignment/data/airbnb_hw.csv\")\n",
    "\n",
    "airbnb['Price'] = airbnb['Price'].str.replace(',', '') # REPLACE commas with nothing\n",
    "print(airbnb['Price'].unique()) # Gives a list of all the unique values\n",
    "\n",
    "airbnb['Price'] = pd.to_numeric(airbnb['Price'], errors='coerce') # COERCE column to numeric\n",
    "print(airbnb['Price'])\n",
    "\n",
    "airbnb['Price'].isnull().sum() # 0 missing values"
   ]
  },
  {
   "cell_type": "code",
   "execution_count": null,
   "id": "0dd1206c-69ac-440a-859c-df58fede18a0",
   "metadata": {},
   "outputs": [],
   "source": [
    "import pandas as pd\n",
    "import numpy as np\n",
    "\n",
    "sharks = pd.read_csv(\"/Users/vaibhavjha/wrangling/assignment/data/sharks.csv\", low_memory = False)\n",
    "print(sharks.head(10))\n",
    "sharks['Type'].unique()\n",
    "sharks['Type'].isnull().sum()\n",
    "\n",
    "# Missing data on 4087: no data in any column\n",
    "print(sharks[sharks['Type'].isnull()])\n",
    "sharks['Reason Missing'] = None\n",
    "sharks.loc[4087,'Reason Missing'] = 'No data whatsoever on person'\n",
    "print(sharks.loc[4087,:])\n",
    "\n",
    "# Missing data on 239, 537 (unreported)\n",
    "sharks.loc[(239, 537),'Reason Missing'] = 'Unreported'\n",
    "print(sharks.loc[(239,537),:])\n",
    "\n",
    "# Missing data on 5025, 5864 (reported)\n",
    "sharks.loc[(5025, 5864),'Reason Missing'] = 'Reported'\n",
    "print(sharks.loc[(5025,5864),:])\n",
    "\n",
    "\n",
    "# Stratified the 'Type' missing observations as: No data whatsoever, unreported, and reported"
   ]
  },
  {
   "cell_type": "code",
   "execution_count": null,
   "id": "95253fc2-6339-4258-9895-45aab6938849",
   "metadata": {},
   "outputs": [],
   "source": [
    "print(sharks['Type'].value_counts()) # Gives different types and frequencies\n",
    "\n",
    "type = sharks['Type']\n",
    "type = type.replace(['Sea Disaster', 'Watercraft', 'Boat', 'Boating', 'Boatomg'], 'Water issues') # Grouped together all known water issues\n",
    "type.value_counts()\n",
    "\n",
    "type = type.replace(['Invalid', 'Questionable', 'Unconfirmed', 'Unverified', 'Under investigation'], np.nan) # Removed all values associated with these types\n",
    "type.value_counts()\n",
    "\n",
    "sharks['Type'] = type # Replace the column in the sharks df\n",
    "sharks['Type'].value_counts() # Complete, cleaned categorical variable"
   ]
  },
  {
   "cell_type": "code",
   "execution_count": null,
   "id": "f8738ded-4ff4-4258-8448-66379e59c94f",
   "metadata": {},
   "outputs": [],
   "source": [
    "import pandas as pd\n",
    "import numpy as np\n",
    "\n",
    "crime = pd.read_parquet(\"/Users/vaibhavjha/wrangling/assignment/data/justice_data.parquet\")\n",
    "crime.head(10)\n",
    "\n",
    "print(crime['WhetherDefendantWasReleasedPretrial'])\n",
    "crime = crime.rename(columns = {'WhetherDefendantWasReleasedPretrial':'Pretrial'}) # Shortened column name\n",
    "\n",
    "crime['Pretrial'].unique()\n",
    "crime['Pretrial'].head(10)\n",
    "crime['Pretrial'].value_counts()\n",
    "\n",
    "# It seems the parquet file codes the variables in 0 and 1, and that 9's are missing values.\n",
    "# Want to recode 9's as np.nan's\n",
    "\n",
    "crime['Pretrial'] = crime['Pretrial'].replace([9], np.nan) # Notice the list\n",
    "print(crime['Pretrial'])\n",
    "print(crime['Pretrial'].value_counts()) \n",
    "\n",
    "# Now have 1s and 0s, with missing values as np.nan"
   ]
  },
  {
   "cell_type": "code",
   "execution_count": 23,
   "id": "31e8c046-3a19-4ac3-aee9-e64fbd99fb22",
   "metadata": {},
   "outputs": [
    {
     "data": {
      "text/plain": [
       "array([9, 0, 1, 4, 2])"
      ]
     },
     "execution_count": 23,
     "metadata": {},
     "output_type": "execute_result"
    }
   ],
   "source": [
    "crime = crime.rename(columns = {'ImposedSentenceAllChargeInContactEvent':'Contact'})\n",
    "crime['Contact'].unique()\n",
    "crime['Contact'].value_counts()\n",
    "# it seems the most popular value is a blank value\n",
    "crime['Contact'] = pd.to_numeric(crime['Contact'], errors='coerce') # made the column go from string to numeric, doing so marked blanks as NaN\n",
    "crime['Contact'] = crime['Contact'].round(0)\n",
    "crime['Contact'].head(20)"
   ]
  },
  {
   "cell_type": "markdown",
   "id": "649494cd-cfd6-4f80-992a-9994fc19e1d5",
   "metadata": {
    "id": "649494cd-cfd6-4f80-992a-9994fc19e1d5"
   },
   "source": [
    "**Q3.** Many important datasets contain a race variable, typically limited to a handful of values often including Black, White, Asian, Latino, and Indigenous. This question looks at data gathering efforts on this variable by the U.S. Federal government.\n",
    "\n",
    "1. How did the most recent US Census gather data on race?\n",
    "2. Why do we gather these data? What role do these kinds of data play in politics and society? Why does data quality matter?\n",
    "3. Please provide a constructive criticism of how the Census was conducted: What was done well? What do you think was missing? How should future large scale surveys be adjusted to best reflect the diversity of the population? Could some of the Census' good practices be adopted more widely to gather richer and more useful data?\n",
    "4. How did the Census gather data on sex and gender? Please provide a similar constructive criticism of their practices.\n",
    "5. When it comes to cleaning data, what concerns do you have about protected characteristics like sex, gender, sexual identity, or race? What challenges can you imagine arising when there are missing values? What good or bad practices might people adopt, and why?\n",
    "6. Suppose someone invented an algorithm to impute values for protected characteristics like race, gender, sex, or sexuality. What kinds of concerns would you have?"
   ]
  },
  {
   "cell_type": "code",
   "execution_count": null,
   "id": "6323721f-ed11-416d-aaba-63f4b0640546",
   "metadata": {},
   "outputs": [],
   "source": [
    " "
   ]
  }
 ],
 "metadata": {
  "colab": {
   "provenance": []
  },
  "kernelspec": {
   "display_name": "Python 3 (ipykernel)",
   "language": "python",
   "name": "python3"
  },
  "language_info": {
   "codemirror_mode": {
    "name": "ipython",
    "version": 3
   },
   "file_extension": ".py",
   "mimetype": "text/x-python",
   "name": "python",
   "nbconvert_exporter": "python",
   "pygments_lexer": "ipython3",
   "version": "3.12.4"
  }
 },
 "nbformat": 4,
 "nbformat_minor": 5
}
