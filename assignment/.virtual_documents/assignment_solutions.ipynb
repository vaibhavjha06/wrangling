





import pandas as pd
import numpy as np
import seaborn as sns





df = pd.read_csv('./data/airbnb_hw.csv', low_memory=False)
print( df.shape, '\n')
df.head()


price = df['Price']
price.unique()





price = df['Price']
price = price.str.replace(',','') # Replace commas with nothing
print( price.unique() , '\n')
price = pd.to_numeric(price,errors='coerce') # Typecast price to float/numeric
print( price.unique() , '\n')
print( 'Total missing: ', sum( price.isnull() ) ) # This converts all the values





df = pd.read_csv('./data/sharks.csv', low_memory=False)
# df.head()
# df.columns.tolist()


df['Type'].value_counts()


type = df['Type'] # Create a temporary vector of values for the Type variable to play with

type = type.replace(['Sea Disaster', 'Boat','Boating','Boatomg'],'Watercraft') # All watercraft/boating values
type.value_counts()

type = type.replace(['Invalid', 'Questionable','Unconfirmed','Unverified','Under investigation'],np.nan) # All unclean values
type.value_counts()

df['Type'] = type # Replace the 'Type' variable with the cleaned version
del type # Destroy the temporary vector

df['Type'].value_counts()


# This is interesting: Sharks are much more likely to kill you if the situation is UNprovoked. 
df['Fatal (Y/N)'] = df['Fatal (Y/N)'].replace(['UNKNOWN', 'F','M','2017'],np.nan) # All unclean values
df['Fatal (Y/N)'] = df['Fatal (Y/N)'].replace('y','Y') # All unclean values
pd.crosstab(df['Type'],df['Fatal (Y/N)'],normalize='index')





df = pd.read_csv('./data/VirginiaPretrialData2017.csv', low_memory=False)
# df.head()
# df.columns.tolist()


release = df['WhetherDefendantWasReleasedPretrial']
print(release.unique(),'\n')
print(release.value_counts(),'\n')
release = release.replace(9,np.nan) # In the codebook, the 9's are "unclear"
print(release.value_counts(),'\n')
sum(release.isnull()) # 31 missing values
df['WhetherDefendantWasReleasedPretrial'] = release # Replace data column with cleaned values
del release





length = df['ImposedSentenceAllChargeInContactEvent']
type = df['SentenceTypeAllChargesAtConvictionInContactEvent']

# print( length.unique()  , '\n') # Some values are ' ', denoting missing
length = pd.to_numeric(length,errors='coerce') # Coerce to numeric
length_NA = length.isnull() # Create a missing dummy
print( np.sum(length_NA),'\n') # 9k missing values of 23k, not so good

print( pd.crosstab(length_NA, type), '\n') # Category 4 is cases where the charges were dismissed

length = length.mask( type == 4, 0) # Replace length with 0 when type ==4
length = length.mask( type == 9, np.nan) # Replace length with np.nan when type == 9

length_NA = length.isnull() # Create a new missing dummy
print( pd.crosstab(length_NA, type), '\n')
print( np.sum(length_NA),'\n') # 274 missing, much better

df['ImposedSentenceAllChargeInContactEvent'] = length # Replace data with cleaned version
del length, type # Delete temporary length/type variables
























